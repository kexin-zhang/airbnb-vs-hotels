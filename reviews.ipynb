{
 "cells": [
  {
   "cell_type": "markdown",
   "metadata": {},
   "source": [
    "# Hotel Review Analysis\n",
    "\n",
    "This notebook contains the code used to analyze hotel reivews. The goal is to obtain a *directed sentiment score* towards specific hotel *aspects*, such as the location, room quality, or hospitality.\n",
    "\n",
    "## My Approach\n",
    "1. Obtain reviews for hotels\n",
    "2. Use the Stanford CoreNLP library to obtain sentiment scores for each sentence in a review\n",
    "3. Treating a sentence as a binary tree, obtain sentiment scores for each phrase (subtree) in a sentence\n",
    "4. Classify the *aspect* of each phrase\n",
    "5. Aggregate results for all *aspects*, for all hotels\n",
    "\n",
    "This approach lets me obtain directed sentiment scores for each hotel. Using this method, we can also obtain sentiment scores for several aspects, even if they appear in the same sentence or have opposite sentiment.\n",
    "\n",
    "For example, in the sentence:\n",
    "```\n",
    "The food was great, but the staff was very rude.\n",
    "```\n",
    "The phrase \"the food was great\" has a positive sentiment towards the **food** aspect, while \"staff was very rude\" has a negative sentiment towards the **staff** aspect.\n",
    "\n",
    "According to CoreNLP, the overall sentiment of the entire sentence is negative. However, examining subphrases allows us to accurately measure sentiment towards each aspect individually. \n",
    "\n",
    "\n",
    "## Future Work (TODO)\n",
    "\n",
    "1. Investigate weighting by probability\n",
    "2. Investigate filtering by probability\n",
    "3. Investigate using neutral sentiment reviews (currently discarded in `Sentiment.java`)\n",
    "4. Increase number of aspects\n",
    "5. Increase regex rule coverage for aspects\n",
    "6. Replace regex classifier with a neural net trained against the regex rules."
   ]
  },
  {
   "cell_type": "code",
   "execution_count": 1,
   "metadata": {},
   "outputs": [],
   "source": [
    "import pandas as pd\n",
    "import numpy as np\n",
    "import matplotlib.pyplot as plt\n",
    "import json\n",
    "\n",
    "%load_ext autoreload\n",
    "%autoreload 2\n",
    "\n",
    "%matplotlib inline"
   ]
  },
  {
   "cell_type": "markdown",
   "metadata": {},
   "source": [
    "## The Dataset\n"
   ]
  },
  {
   "cell_type": "code",
   "execution_count": 2,
   "metadata": {
    "collapsed": true,
    "scrolled": true
   },
   "outputs": [],
   "source": [
    "reviews = []\n",
    "urls = []\n",
    "with open('data/reviews7.jl', 'r') as f:\n",
    "    for line in f:\n",
    "        data = json.loads(line)\n",
    "        reviews.append(data['text'])\n",
    "        urls.append(data['url'])"
   ]
  },
  {
   "cell_type": "markdown",
   "metadata": {},
   "source": [
    "Some reviews are blank (only a title and a star rating), and others are excessively long. To combat this, I filter blank reviews and those that consist of more than 1500 characters. Experiments with all the datasets showed that 1500 characters is roughly the 95% percentile for review length. "
   ]
  },
  {
   "cell_type": "code",
   "execution_count": 3,
   "metadata": {},
   "outputs": [
    {
     "name": "stdout",
     "output_type": "stream",
     "text": [
      "18068\n",
      "1455.0\n",
      "14094\n"
     ]
    }
   ],
   "source": [
    "df = pd.DataFrame()\n",
    "df['text'] = reviews\n",
    "df['urls'] = urls\n",
    "print(len(df))\n",
    "print(df.text.str.len().quantile(0.95))\n",
    "df = df[(df.text.str.len() > 0) & (df.text.str.len() < 1500)]\n",
    "print(len(df))\n",
    "df.to_csv('reviews_dev.txt', index=False)\n",
    "urls = list(df.urls.values)"
   ]
  },
  {
   "cell_type": "markdown",
   "metadata": {},
   "source": [
    "To easily hold the data, I define a simple data wrapper class for each phrase. "
   ]
  },
  {
   "cell_type": "code",
   "execution_count": 4,
   "metadata": {},
   "outputs": [],
   "source": [
    "class Phrase:\n",
    "    def __init__(self, sentiment, tokens, probability, phrase):\n",
    "        self.sentiment = sentiment\n",
    "        self.tokens = tokens\n",
    "        self.probability = probability\n",
    "        self.phrase = phrase\n",
    "        self.cls = None\n",
    "        self.url = None\n",
    "        \n",
    "    def has_class(self):\n",
    "        return self.cls != None and self.cls != -1\n",
    "    \n",
    "    def __repr__(self):\n",
    "        return 'Class={} Sentiment={} Probability={} Phrase=\"{}\"'.format(self.cls,\n",
    "                                                                       self.sentiment,\n",
    "                                                                       self.probability,\n",
    "                                                                       self.phrase)"
   ]
  },
  {
   "cell_type": "markdown",
   "metadata": {},
   "source": [
    "## Classifying\n",
    "\n",
    "To classify the aspect of a phrase, I used simple regex rules. These will be replaced by a neural network trained against a more comprehensive set of rules, but regex rules are enough to obtain results.\n",
    "\n",
    "Note that the \"classifier\" below will only report one class. If multiple classes are detected, it will return -1. This is because we want to isolate sentiment scores towards a single aspect."
   ]
  },
  {
   "cell_type": "code",
   "execution_count": 5,
   "metadata": {},
   "outputs": [],
   "source": [
    "import re\n",
    "CLASS_NAMES = ['location', 'staff', 'food', 'room']\n",
    "CLASSES = np.array([i for i, _ in enumerate(CLASS_NAMES)])\n",
    "def get_class(phrase_obj):\n",
    "    text = phrase_obj.phrase\n",
    "    \n",
    "    #location patterns\n",
    "    location = any([re.search(r'\\blocation\\b', text)])\n",
    "    \n",
    "    #staff patterns\n",
    "    staff = any([re.search(r'\\bstaff\\b', text)])\n",
    "    \n",
    "    #food patterns\n",
    "    food = any([re.search(r'\\bfood\\b', text)])\n",
    "    \n",
    "    #room quality, hospitality\n",
    "    room = any([re.search(r'\\bclean', text)])\n",
    "    \n",
    "    matches = np.array([location, staff, food, room])\n",
    "    if sum(matches) == 1:\n",
    "        return CLASSES[matches][0]\n",
    "    else:\n",
    "        return -1"
   ]
  },
  {
   "cell_type": "markdown",
   "metadata": {},
   "source": [
    "When processing phrases, I want to prefer the longest phrase involving a single aspect. My other experiments have shown that the sentiment scores for longer phrases are more accurate (and have higher probability) than those for shorter phrases, especially in the presence of negating words like \"not\". \n",
    "\n",
    "The function below takes a list of phrase objects ordered from longest to shortest, and inspects their classifications. It will greedily take the longest phrase for each aspect, and ingore the rest."
   ]
  },
  {
   "cell_type": "code",
   "execution_count": 6,
   "metadata": {},
   "outputs": [],
   "source": [
    "def greedy_class_filter(ordered_phrases):\n",
    "    found = [False for cls in CLASS_NAMES]\n",
    "    filtered = []\n",
    "    for phrase in ordered_phrases:\n",
    "        if found[phrase.cls]:\n",
    "            continue\n",
    "        found[phrase.cls] = True\n",
    "        filtered.append(phrase)\n",
    "\n",
    "    return filtered"
   ]
  },
  {
   "cell_type": "markdown",
   "metadata": {},
   "source": [
    "In order to obtain the sentiment scores for each phrase, see the ReviewSentiment Java source. There, I use CoreNLP to obtain sentiment scores for each sentence and phrase in the sentence. These phrases are obtained by running `Sentiment.java` on a cleaned version of the dataframe created above. The phrases are written out to the `reviews.tagged.txt` file, with document and sentence boundaries. \n",
    "\n",
    "The cell below iterates over these phrases, runs the classifier, and records the scores for each aspect."
   ]
  },
  {
   "cell_type": "code",
   "execution_count": 7,
   "metadata": {
    "scrolled": true
   },
   "outputs": [
    {
     "name": "stdout",
     "output_type": "stream",
     "text": [
      "1000 21\n",
      "2000 22\n",
      "3000 25\n",
      "4000 27\n",
      "5000 29\n",
      "6000 32\n",
      "7000 34\n",
      "8000 34\n",
      "9000 34\n",
      "10000 34\n",
      "11000 34\n",
      "12000 34\n",
      "13000 34\n",
      "14000 34\n"
     ]
    }
   ],
   "source": [
    "from collections import defaultdict\n",
    "\n",
    "#map from url to list of sentiment scores\n",
    "hotels = defaultdict(list)\n",
    "\n",
    "with open('reviews-nlp/ReviewSentiment/datasets/reviews.tagged.txt', 'r') as f:\n",
    "    docid = 0\n",
    "    buffer = []\n",
    "    for line in f:\n",
    "        if line.startswith('===<d'):\n",
    "            docid += 1\n",
    "            if docid % 1000 == 0:\n",
    "                print(docid, len(hotels))\n",
    "        elif line.startswith('=<s'):\n",
    "            #handle each sentence\n",
    "            if len(buffer) != 0:\n",
    "                #construct phrase wrappers\n",
    "                phrases = []\n",
    "                for tokens, sentiment, prob, phrase in (p.split('|') for p in buffer):\n",
    "                    phrases.append(Phrase(int(sentiment), int(tokens), float(prob), phrase))\n",
    "                \n",
    "                #sort by reverse length\n",
    "                phrases = sorted(phrases, key = lambda x : x.tokens, reverse=True)\n",
    "                \n",
    "                #tag using the simple classifier\n",
    "                for phrase in phrases:\n",
    "                    phrase.cls = get_class(phrase)\n",
    "                \n",
    "                #filter phrases with no class \n",
    "                phrases = [p for p in phrases if p.has_class()]\n",
    "                \n",
    "                if len(phrases) > 0:\n",
    "                    #record the longest phrase for each aspect in this sentence\n",
    "                    filtered_phrases = greedy_class_filter(phrases)\n",
    "                    hotels[urls[docid]].extend(filtered_phrases)\n",
    "                    \n",
    "            buffer = []\n",
    "        else:\n",
    "            buffer.append(line)"
   ]
  },
  {
   "cell_type": "markdown",
   "metadata": {},
   "source": [
    "Scoring is the average sentiment towards each aspect for each hotel. Sentiment scores range from -2 to 2, with -2 being the most negative. There is a heavy bias towards good sentiment reviews, so scores for each hotel must be considered relative to other hotels."
   ]
  },
  {
   "cell_type": "code",
   "execution_count": 8,
   "metadata": {
    "scrolled": true
   },
   "outputs": [],
   "source": [
    "hotel_scores = {}\n",
    "for hotel in hotels:\n",
    "    scores = [0 for _ in CLASS_NAMES]\n",
    "    counts = [0 for _ in CLASS_NAMES]\n",
    "    for phrase in hotels[hotel]:\n",
    "        scores[phrase.cls] += phrase.sentiment\n",
    "        counts[phrase.cls] += 1\n",
    "    raw_scores = [s / c if c != 0 else 0 for s, c in zip(scores, counts)]\n",
    "    hotel_scores[hotel] = {name : score for name, score in zip(CLASS_NAMES, raw_scores)}"
   ]
  },
  {
   "cell_type": "markdown",
   "metadata": {},
   "source": [
    "## Results\n",
    "\n",
    "Finally, the scores! The scores are mostly interpretable. Note that `Comfort_Inn_LaGuardia` has extremely low scores in each category. "
   ]
  },
  {
   "cell_type": "code",
   "execution_count": 9,
   "metadata": {
    "scrolled": false
   },
   "outputs": [
    {
     "name": "stdout",
     "output_type": "stream",
     "text": [
      "/Hotel_Review-g48682-d224599-Reviews-Hilton_Garden_Inn_New_York_Staten_Island-Staten_Island_New_York.html\n",
      "Category: location   0.545\n",
      "Category: staff      0.281\n",
      "Category: food       0.744\n",
      "Category: room       0.537\n",
      "/Hotel_Review-g60827-d2151848-Reviews-McCarren_Hotel_Pool-Brooklyn_New_York.html\n",
      "Category: location   0.810\n",
      "Category: staff      0.387\n",
      "Category: food       0.261\n",
      "Category: room       0.608\n",
      "/Hotel_Review-g47369-d4447795-Reviews-Rodeway_Inn_Bronx_Zoo-Bronx_New_York.html\n",
      "Category: location   0.143\n",
      "Category: staff      0.500\n",
      "Category: food       0.000\n",
      "Category: room       0.355\n",
      "/Hotel_Review-g47369-d12441510-Reviews-Comfort_Inn_Suites_near_Stadium-Bronx_New_York.html\n",
      "Category: location   0.333\n",
      "Category: staff      0.222\n",
      "Category: food       1.000\n",
      "Category: room       0.889\n",
      "/Hotel_Review-g47369-d99257-Reviews-Ramada_Bronx-Bronx_New_York.html\n",
      "Category: location   0.500\n",
      "Category: staff      0.378\n",
      "Category: food       -0.250\n",
      "Category: room       0.507\n",
      "/Hotel_Review-g60827-d7772856-Reviews-Quality_Inn-Brooklyn_New_York.html\n",
      "Category: location   0.000\n",
      "Category: staff      -0.500\n",
      "Category: food       1.000\n",
      "Category: room       -0.333\n",
      "/Hotel_Review-g60827-d2309186-Reviews-The_LOOK_hotel_Red_Hook_an_Ascend_Hotel_Collection_Member-Brooklyn_New_York.html\n",
      "Category: location   0.000\n",
      "Category: staff      0.000\n",
      "Category: food       1.000\n",
      "Category: room       0.000\n",
      "/Hotel_Review-g47369-d4702280-Reviews-Opera_House_Hotel-Bronx_New_York.html\n",
      "Category: location   -0.048\n",
      "Category: staff      0.453\n",
      "Category: food       0.538\n",
      "Category: room       0.785\n",
      "/Hotel_Review-g60827-d1657771-Reviews-La_Quinta_Inn_Suites_Brooklyn_Downtown-Brooklyn_New_York.html\n",
      "Category: location   0.230\n",
      "Category: staff      -0.067\n",
      "Category: food       -0.318\n",
      "Category: room       0.434\n",
      "/Hotel_Review-g48080-d248683-Reviews-Super_8_Long_Island_City_LGA_Hotel-Long_Island_City_Queens_New_York.html\n",
      "Category: location   0.733\n",
      "Category: staff      0.333\n",
      "Category: food       -1.000\n",
      "Category: room       0.222\n",
      "/Hotel_Review-g60827-d295340-Reviews-Days_Inn_Brooklyn-Brooklyn_New_York.html\n",
      "Category: location   -0.231\n",
      "Category: staff      -0.360\n",
      "Category: food       0.083\n",
      "Category: room       -0.148\n",
      "/Hotel_Review-g48908-d246828-Reviews-The_Inn_At_Fox_Hollow_Hotel-Woodbury_Long_Island_New_York.html\n",
      "Category: location   0.393\n",
      "Category: staff      0.388\n",
      "Category: food       0.552\n",
      "Category: room       0.675\n",
      "/Hotel_Review-g47729-d3411847-Reviews-Asiatic_Hotel_Flushing-Flushing_Queens_New_York.html\n",
      "Category: location   0.520\n",
      "Category: staff      0.237\n",
      "Category: food       0.346\n",
      "Category: room       0.550\n",
      "/Hotel_Review-g60827-d2556148-Reviews-Wythe_Hotel-Brooklyn_New_York.html\n",
      "Category: location   0.883\n",
      "Category: staff      0.294\n",
      "Category: food       0.614\n",
      "Category: room       0.677\n",
      "/Hotel_Review-g47289-d99254-Reviews-Best_Western_Queens_Gold_Coast-Bayside_Queens_New_York.html\n",
      "Category: location   0.821\n",
      "Category: staff      0.456\n",
      "Category: food       0.500\n",
      "Category: room       0.626\n",
      "/Hotel_Review-g47626-d1485917-Reviews-Comfort_Inn_LaGuardia_Airport_83rd_St-East_Elmhurst_Queens_New_York.html\n",
      "Category: location   -0.143\n",
      "Category: staff      -0.132\n",
      "Category: food       -0.263\n",
      "Category: room       0.514\n",
      "/Hotel_Review-g60827-d636123-Reviews-Best_Western_Plus_Brooklyn_Bay_Hotel-Brooklyn_New_York.html\n",
      "Category: location   0.826\n",
      "Category: staff      0.424\n",
      "Category: food       -0.182\n",
      "Category: room       0.500\n",
      "/Hotel_Review-g47962-d224106-Reviews-Courtyard_by_Marriott_New_York_JFK_Airport-Jamaica_Queens_New_York.html\n",
      "Category: location   0.212\n",
      "Category: staff      0.308\n",
      "Category: food       0.372\n",
      "Category: room       0.598\n",
      "/Hotel_Review-g47369-d12548946-Reviews-Holiday_Inn_Express_Bronx_NYC_Stadium_Area-Bronx_New_York.html\n",
      "Category: location   0.000\n",
      "Category: staff      -1.000\n",
      "Category: food       -1.000\n",
      "Category: room       0.000\n",
      "/Hotel_Review-g48922-d7771212-Reviews-Hyatt_Place_New_York_Yonkers-Yonkers_New_York.html\n",
      "Category: location   0.774\n",
      "Category: staff      0.693\n",
      "Category: food       0.056\n",
      "Category: room       0.769\n",
      "/Hotel_Review-g60827-d548322-Reviews-Brooklyn_Motor_Inn-Brooklyn_New_York.html\n",
      "Category: location   0.000\n",
      "Category: staff      -0.455\n",
      "Category: food       -1.000\n",
      "Category: room       0.217\n",
      "/Hotel_Review-g47962-d574186-Reviews-Days_Inn_Jamaica_Jfk_Airport-Jamaica_Queens_New_York.html\n",
      "Category: location   -0.212\n",
      "Category: staff      0.016\n",
      "Category: food       -0.396\n",
      "Category: room       0.364\n",
      "/Hotel_Review-g47962-d225472-Reviews-Radisson_Hotel_JFK_Airport-Jamaica_Queens_New_York.html\n",
      "Category: location   0.382\n",
      "Category: staff      -0.209\n",
      "Category: food       -0.222\n",
      "Category: room       0.289\n",
      "/Hotel_Review-g47729-d6563501-Reviews-Ramada_Flushing_Queens-Flushing_Queens_New_York.html\n",
      "Category: location   0.357\n",
      "Category: staff      -0.172\n",
      "Category: food       -0.647\n",
      "Category: room       0.591\n",
      "/Hotel_Review-g60827-d6542529-Reviews-Hampton_Inn_Brooklyn_Downtown-Brooklyn_New_York.html\n",
      "Category: location   0.718\n",
      "Category: staff      0.577\n",
      "Category: food       0.308\n",
      "Category: room       0.878\n",
      "/Hotel_Review-g60827-d650459-Reviews-Hotel_Le_Bleu-Brooklyn_New_York.html\n",
      "Category: location   0.483\n",
      "Category: staff      0.272\n",
      "Category: food       0.511\n",
      "Category: room       0.791\n",
      "/Hotel_Review-g60827-d99467-Reviews-BEST_WESTERN_Gregory_Hotel-Brooklyn_New_York.html\n",
      "Category: location   0.657\n",
      "Category: staff      0.303\n",
      "Category: food       0.444\n",
      "Category: room       0.507\n",
      "/Hotel_Review-g48080-d1500326-Reviews-Best_Western_Plaza_Hotel-Long_Island_City_Queens_New_York.html\n",
      "Category: location   0.230\n",
      "Category: staff      0.113\n",
      "Category: food       -0.227\n",
      "Category: room       0.467\n",
      "/Hotel_Review-g60827-d10728525-Reviews-The_Williamsburg_Hotel-Brooklyn_New_York.html\n",
      "Category: location   0.966\n",
      "Category: staff      0.528\n",
      "Category: food       0.800\n",
      "Category: room       0.846\n",
      "/Hotel_Review-g47962-d501354-Reviews-Hilton_Garden_Inn_Queens_JFK_Airport-Jamaica_Queens_New_York.html\n",
      "Category: location   0.080\n",
      "Category: staff      0.175\n",
      "Category: food       0.412\n",
      "Category: room       0.619\n",
      "/Hotel_Review-g616325-d12165292-Reviews-Wyndham_Garden_Fresh_Meadows_Flushing-Queens_New_York.html\n",
      "Category: location   0.200\n",
      "Category: staff      0.143\n",
      "Category: food       -1.000\n",
      "Category: room       0.533\n",
      "/Hotel_Review-g47626-d12246206-Reviews-Aloft_New_York_LaGuardia_Airport-East_Elmhurst_Queens_New_York.html\n",
      "Category: location   1.000\n",
      "Category: staff      -0.250\n",
      "Category: food       -1.000\n",
      "Category: room       0.800\n",
      "/Hotel_Review-g48477-d10333880-Reviews-Wyndham_Garden_Laguardia_South-Rego_Park_Queens_New_York.html\n",
      "Category: location   0.455\n",
      "Category: staff      0.345\n",
      "Category: food       0.000\n",
      "Category: room       0.667\n",
      "/Hotel_Review-g60827-d622721-Reviews-Holiday_Inn_Express_Brooklyn-Brooklyn_New_York.html\n",
      "Category: location   0.193\n",
      "Category: staff      0.067\n",
      "Category: food       0.158\n",
      "Category: room       0.244\n"
     ]
    }
   ],
   "source": [
    "for hotel in hotel_scores:\n",
    "    print(hotel)\n",
    "    for t in hotel_scores[hotel]:\n",
    "        print('Category: {:10} {:.3f}'.format(t, hotel_scores[hotel][t]))"
   ]
  }
 ],
 "metadata": {
  "kernelspec": {
   "display_name": "Python 3",
   "language": "python",
   "name": "python3"
  },
  "language_info": {
   "codemirror_mode": {
    "name": "ipython",
    "version": 3
   },
   "file_extension": ".py",
   "mimetype": "text/x-python",
   "name": "python",
   "nbconvert_exporter": "python",
   "pygments_lexer": "ipython3",
   "version": "3.6.1"
  }
 },
 "nbformat": 4,
 "nbformat_minor": 2
}
